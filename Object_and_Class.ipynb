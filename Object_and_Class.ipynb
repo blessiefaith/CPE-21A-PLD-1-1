{
  "nbformat": 4,
  "nbformat_minor": 0,
  "metadata": {
    "colab": {
      "provenance": [],
      "authorship_tag": "ABX9TyOAXCU8JUUpDAJlxhU4HZt1",
      "include_colab_link": true
    },
    "kernelspec": {
      "name": "python3",
      "display_name": "Python 3"
    },
    "language_info": {
      "name": "python"
    }
  },
  "cells": [
    {
      "cell_type": "markdown",
      "metadata": {
        "id": "view-in-github",
        "colab_type": "text"
      },
      "source": [
        "<a href=\"https://colab.research.google.com/github/blessiefaith/CPE-21A-PLD-1-1/blob/main/Object_and_Class.ipynb\" target=\"_parent\"><img src=\"https://colab.research.google.com/assets/colab-badge.svg\" alt=\"Open In Colab\"/></a>"
      ]
    },
    {
      "cell_type": "code",
      "execution_count": null,
      "metadata": {
        "id": "M2VrmaO14vEw",
        "colab": {
          "base_uri": "https://localhost:8080/"
        },
        "outputId": "ad33fb09-075d-4ac9-ad05-99a86269181c"
      },
      "outputs": [
        {
          "output_type": "stream",
          "name": "stdout",
          "text": [
            "My name is Blessie\n",
            "My age is 19\n",
            "My name is Martin\n",
            "My age is 19\n"
          ]
        }
      ],
      "source": [
        "#Creating class and object \n",
        "\n",
        "class Person:                          #creating class named as Person\n",
        "  def __init__(self,name,age):\n",
        "    self.name = name\n",
        "    self.age = age \n",
        "\n",
        "person = Person(\"Blessie\",19)          #creating object name person \n",
        "print(\"My name is\",person.name)\n",
        "print(\"My age is\",person.age)\n",
        "\n",
        "class Student(Person):\n",
        "  pass \n",
        "\n",
        "person2 = Student(\"Martin\",19)\n",
        "print(\"My name is\",person2.name)\n",
        "print(\"My age is\",person2.age)\n",
        "\n"
      ]
    },
    {
      "cell_type": "code",
      "source": [
        "\n",
        "class Shape:\n",
        "  def __init__(self , length , width):\n",
        "    self.length = length \n",
        "    self.width = width \n",
        "\n",
        "  def Area(self):\n",
        "    return self.length * self.width\n",
        "  \n",
        "  def Perimeter(self):\n",
        "    return (self.length + self.width)*2\n",
        "\n",
        "class Rectangle(Shape):\n",
        "  pass \n",
        "\n",
        "rectangle = Shape (15,5)\n",
        "print(rectangle.Area())\n",
        "print(rectangle.Perimeter())"
      ],
      "metadata": {
        "id": "sRE0_IOi0b82",
        "colab": {
          "base_uri": "https://localhost:8080/"
        },
        "outputId": "8174a9eb-0ee4-4795-b11c-5a324226cc05"
      },
      "execution_count": 1,
      "outputs": [
        {
          "output_type": "stream",
          "name": "stdout",
          "text": [
            "75\n",
            "40\n"
          ]
        }
      ]
    }
  ]
}