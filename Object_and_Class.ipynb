{
  "nbformat": 4,
  "nbformat_minor": 0,
  "metadata": {
    "colab": {
      "provenance": [],
      "authorship_tag": "ABX9TyP42PCrh2+tV0lliD5FNnyb",
      "include_colab_link": true
    },
    "kernelspec": {
      "name": "python3",
      "display_name": "Python 3"
    },
    "language_info": {
      "name": "python"
    }
  },
  "cells": [
    {
      "cell_type": "markdown",
      "metadata": {
        "id": "view-in-github",
        "colab_type": "text"
      },
      "source": [
        "<a href=\"https://colab.research.google.com/github/blessiefaith/CPE-21A-PLD-1-1/blob/main/Object_and_Class.ipynb\" target=\"_parent\"><img src=\"https://colab.research.google.com/assets/colab-badge.svg\" alt=\"Open In Colab\"/></a>"
      ]
    },
    {
      "cell_type": "code",
      "execution_count": null,
      "metadata": {
        "id": "M2VrmaO14vEw",
        "colab": {
          "base_uri": "https://localhost:8080/"
        },
        "outputId": "ad33fb09-075d-4ac9-ad05-99a86269181c"
      },
      "outputs": [
        {
          "output_type": "stream",
          "name": "stdout",
          "text": [
            "My name is Blessie\n",
            "My age is 19\n",
            "My name is Martin\n",
            "My age is 19\n"
          ]
        }
      ],
      "source": [
        "#Creating class and object \n",
        "\n",
        "class Person:                          #creating class named as Person\n",
        "  def __init__(self,name,age):\n",
        "    self.name = name\n",
        "    self.age = age \n",
        "\n",
        "person = Person(\"Blessie\",19)          #creating object name person \n",
        "print(\"My name is\",person.name)\n",
        "print(\"My age is\",person.age)\n",
        "\n",
        "class Student(Person):\n",
        "  pass \n",
        "\n",
        "person2 = Student(\"Martin\",19)\n",
        "print(\"My name is\",person2.name)\n",
        "print(\"My age is\",person2.age)\n",
        "\n"
      ]
    },
    {
      "cell_type": "code",
      "source": [
        "#APplication\n",
        "#Write a Python program that compute of the Area() and Perimenter () of a rectange \n",
        "#Use the shape as parent class\n",
        "#Use Are () and Perimeter () as methods with its attributes length and width \n",
        "#Use Rectangle  as child class \n",
        "\n"
      ],
      "metadata": {
        "id": "dr2Tg3-0sFWI"
      },
      "execution_count": null,
      "outputs": []
    },
    {
      "cell_type": "code",
      "source": [
        "class Shape:\n",
        "  def __init__(self , length , width):\n",
        "    self.length = length \n",
        "    self.width = width \n",
        "\n",
        "  def Area(self):\n",
        "    return self.length * self.width\n",
        "  \n",
        "  def Perimeter(self):\n",
        "    return (self.length + self.width)*2\n",
        "\n",
        "class Rectangle(Shape):\n",
        "  pass \n",
        "\n",
        "rectangle = Shape (15,5)\n",
        "print(rectangle.Area())\n",
        "print(rectangle.Perimeter())"
      ],
      "metadata": {
        "colab": {
          "base_uri": "https://localhost:8080/"
        },
        "id": "RjdWy_yqs-qH",
        "outputId": "e3c2d508-65a9-46fa-9477-1c7049f804b4"
      },
      "execution_count": 5,
      "outputs": [
        {
          "output_type": "stream",
          "name": "stdout",
          "text": [
            "75\n",
            "40\n"
          ]
        }
      ]
    },
    {
      "cell_type": "code",
      "source": [
        "class Shape:\n",
        "  def __init__(self, length ,width):\n",
        "    self.length = length \n",
        "    self.width = width\n",
        "\n",
        "  def Area(self):\n",
        "    return self.length * self.width \n",
        "  \n",
        "  def Perimeter(self): \n",
        "    return (self.length + self.width)*2\n",
        "  \n",
        "  def display(self):\n",
        "    print(\"The area of  a rectangle is\", self.Area())\n",
        "    print(\"The perimeter of a rectangle is\", self.Perimeter())\n",
        "\n",
        "class Rectangle(Shape):\n",
        "  pass\n",
        "\n",
        "rectangle = Shape(10,5)\n",
        "rectangle2 = Rectangle(10,5)\n",
        "\n",
        "rectangle.display()\n",
        "rectangle2.display()\n"
      ],
      "metadata": {
        "colab": {
          "base_uri": "https://localhost:8080/"
        },
        "id": "X9zB2nivw3jm",
        "outputId": "43f67a59-6c6f-472f-bd71-4ec35dddaed0"
      },
      "execution_count": 9,
      "outputs": [
        {
          "output_type": "stream",
          "name": "stdout",
          "text": [
            "The area of  a rectangle is 50\n",
            "The perimeter of a rectangle is 30\n",
            "The area of  a rectangle is 50\n",
            "The perimeter of a rectangle is 30\n"
          ]
        }
      ]
    }
  ]
}