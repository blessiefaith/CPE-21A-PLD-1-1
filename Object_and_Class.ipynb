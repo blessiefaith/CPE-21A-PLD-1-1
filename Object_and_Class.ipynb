{
  "nbformat": 4,
  "nbformat_minor": 0,
  "metadata": {
    "colab": {
      "provenance": [],
      "authorship_tag": "ABX9TyMYoNyiQARAkDnfCe1kq970",
      "include_colab_link": true
    },
    "kernelspec": {
      "name": "python3",
      "display_name": "Python 3"
    },
    "language_info": {
      "name": "python"
    }
  },
  "cells": [
    {
      "cell_type": "markdown",
      "metadata": {
        "id": "view-in-github",
        "colab_type": "text"
      },
      "source": [
        "<a href=\"https://colab.research.google.com/github/blessiefaith/CPE-21A-PLD-1-1/blob/main/Object_and_Class.ipynb\" target=\"_parent\"><img src=\"https://colab.research.google.com/assets/colab-badge.svg\" alt=\"Open In Colab\"/></a>"
      ]
    },
    {
      "cell_type": "code",
      "execution_count": null,
      "metadata": {
        "id": "M2VrmaO14vEw",
        "colab": {
          "base_uri": "https://localhost:8080/"
        },
        "outputId": "ad33fb09-075d-4ac9-ad05-99a86269181c"
      },
      "outputs": [
        {
          "output_type": "stream",
          "name": "stdout",
          "text": [
            "My name is Blessie\n",
            "My age is 19\n",
            "My name is Martin\n",
            "My age is 19\n"
          ]
        }
      ],
      "source": [
        "#Creating class and object \n",
        "\n",
        "class Person:                          #creating class named as Person\n",
        "  def __init__(self,name,age):\n",
        "    self.name = name\n",
        "    self.age = age \n",
        "\n",
        "person = Person(\"Blessie\",19)          #creating object name person \n",
        "print(\"My name is\",person.name)\n",
        "print(\"My age is\",person.age)\n",
        "\n",
        "class Student(Person):\n",
        "  pass \n",
        "\n",
        "person2 = Student(\"Martin\",19)\n",
        "print(\"My name is\",person2.name)\n",
        "print(\"My age is\",person2.age)\n",
        "\n"
      ]
    },
    {
      "cell_type": "code",
      "source": [
        "#APplication\n",
        "#Write a Python program that compute of the Area() and Perimenter () of a rectange \n",
        "#Use the shape as parent class\n",
        "#Use Are () and Perimeter () as methods with its attributes length and width \n",
        "#Use Rectangle  as child class \n",
        "\n"
      ],
      "metadata": {
        "id": "dr2Tg3-0sFWI"
      },
      "execution_count": null,
      "outputs": []
    },
    {
      "cell_type": "code",
      "source": [
        "class Shape:\n",
        "  def __init__(self , length , width):\n",
        "    self.length = length \n",
        "    self.width = width \n",
        "\n",
        "  def Area(self):\n",
        "    return self.length * self.width\n",
        "  \n",
        "  def Perimeter(self):\n",
        "    return (self.length + self.width)*2\n",
        "\n",
        "class Rectangle(Shape):\n",
        "  pass \n",
        "\n",
        "rectangle = Shape (15,5)\n",
        "print(rectangle.Area())\n",
        "print(rectangle.Perimeter())"
      ],
      "metadata": {
        "colab": {
          "base_uri": "https://localhost:8080/"
        },
        "id": "RjdWy_yqs-qH",
        "outputId": "e3c2d508-65a9-46fa-9477-1c7049f804b4"
      },
      "execution_count": null,
      "outputs": [
        {
          "output_type": "stream",
          "name": "stdout",
          "text": [
            "75\n",
            "40\n"
          ]
        }
      ]
    },
    {
      "cell_type": "code",
      "source": [
        "class Shape:\n",
        "  def __init__(self, length ,width):\n",
        "    self.length = length \n",
        "    self.width = width\n",
        "\n",
        "  def Area(self):\n",
        "    return self.length * self.width \n",
        "  \n",
        "  def Perimeter(self): \n",
        "    return (self.length + self.width)*2\n",
        "  \n",
        "  def display(self):\n",
        "    print(\"The area of  a rectangle is\", self.Area())\n",
        "    print(\"The perimeter of a rectangle is\", self.Perimeter())\n",
        "\n",
        "class Rectangle(Shape):\n",
        "  pass\n",
        "\n",
        "rectangle = Shape(10,5)\n",
        "rectangle2 = Rectangle(10,5)\n",
        "\n",
        "rectangle.display()\n",
        "rectangle2.display()\n"
      ],
      "metadata": {
        "colab": {
          "base_uri": "https://localhost:8080/"
        },
        "id": "X9zB2nivw3jm",
        "outputId": "43f67a59-6c6f-472f-bd71-4ec35dddaed0"
      },
      "execution_count": null,
      "outputs": [
        {
          "output_type": "stream",
          "name": "stdout",
          "text": [
            "The area of  a rectangle is 50\n",
            "The perimeter of a rectangle is 30\n",
            "The area of  a rectangle is 50\n",
            "The perimeter of a rectangle is 30\n"
          ]
        }
      ]
    },
    {
      "cell_type": "code",
      "source": [
        "#Python List \n",
        "\n",
        "pi = 3.141159\n",
        "varList = [1,2, 'A', 'B', \"Hello\", pi]\n",
        "print(varList[0])\n",
        "\n",
        "varList.append(\"World\")\n",
        "len(varList)\n",
        "\n",
        "varList.remove(pi)\n",
        "print(varList)\n",
        "\n",
        "\n",
        "\n",
        "\n"
      ],
      "metadata": {
        "id": "qoQZXhsxGt_p",
        "outputId": "2a87bd28-0abe-437a-933c-09c6eca3614c",
        "colab": {
          "base_uri": "https://localhost:8080/"
        }
      },
      "execution_count": 8,
      "outputs": [
        {
          "output_type": "stream",
          "name": "stdout",
          "text": [
            "1\n",
            "[1, 2, 'A', 'B', 'Hello', 'World']\n"
          ]
        }
      ]
    },
    {
      "cell_type": "code",
      "source": [
        "#Python Dictionary \n",
        "\n",
        "thisdict = {\n",
        "           \"name\": \"Blessie\" , \n",
        "           \"age\": 19,\n",
        "            \"birthday\": \"September 26,2003\"\n",
        "\n",
        "       }\n",
        "\n",
        "print(thisdict)"
      ],
      "metadata": {
        "id": "tgebXvPLHdSy",
        "outputId": "14456b26-28ff-4e8d-8a0c-9218bb9d2e85",
        "colab": {
          "base_uri": "https://localhost:8080/"
        }
      },
      "execution_count": 10,
      "outputs": [
        {
          "output_type": "stream",
          "name": "stdout",
          "text": [
            "{'name': 'Blessie', 'age': 19, 'birthday': 'September 26,2003'}\n"
          ]
        }
      ]
    },
    {
      "cell_type": "code",
      "source": [
        "varList = [0,1,2,3,4]\n",
        "print(varList)\n",
        "\n",
        "\n",
        "varList = range(0,5,2)\n",
        "print([var for var in varList])"
      ],
      "metadata": {
        "id": "S5PJdJ2CH6os",
        "outputId": "a6995f36-7f47-4d3f-da73-9bd233cf0d5c",
        "colab": {
          "base_uri": "https://localhost:8080/"
        }
      },
      "execution_count": 14,
      "outputs": [
        {
          "output_type": "stream",
          "name": "stdout",
          "text": [
            "[0, 1, 2, 3, 4]\n",
            "[0, 2, 4]\n"
          ]
        }
      ]
    }
  ]
}