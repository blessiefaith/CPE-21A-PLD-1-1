{
  "nbformat": 4,
  "nbformat_minor": 0,
  "metadata": {
    "colab": {
      "provenance": [],
      "authorship_tag": "ABX9TyOG4NcFLdStoVC/VQ3t8EV6",
      "include_colab_link": true
    },
    "kernelspec": {
      "name": "python3",
      "display_name": "Python 3"
    },
    "language_info": {
      "name": "python"
    }
  },
  "cells": [
    {
      "cell_type": "markdown",
      "metadata": {
        "id": "view-in-github",
        "colab_type": "text"
      },
      "source": [
        "<a href=\"https://colab.research.google.com/github/blessiefaith/CPE-21A-PLD-1-1/blob/main/Object_and_Class.ipynb\" target=\"_parent\"><img src=\"https://colab.research.google.com/assets/colab-badge.svg\" alt=\"Open In Colab\"/></a>"
      ]
    },
    {
      "cell_type": "code",
      "execution_count": null,
      "metadata": {
        "id": "M2VrmaO14vEw",
        "colab": {
          "base_uri": "https://localhost:8080/"
        },
        "outputId": "ad33fb09-075d-4ac9-ad05-99a86269181c"
      },
      "outputs": [
        {
          "output_type": "stream",
          "name": "stdout",
          "text": [
            "My name is Blessie\n",
            "My age is 19\n",
            "My name is Martin\n",
            "My age is 19\n"
          ]
        }
      ],
      "source": [
        "#Creating class and object \n",
        "\n",
        "class Person:                          #creating class named as Person\n",
        "  def __init__(self,name,age):\n",
        "    self.name = name\n",
        "    self.age = age \n",
        "\n",
        "person = Person(\"Blessie\",19)          #creating object name person \n",
        "print(\"My name is\",person.name)\n",
        "print(\"My age is\",person.age)\n",
        "\n",
        "class Student(Person):\n",
        "  pass \n",
        "\n",
        "person2 = Student(\"Martin\",19)\n",
        "print(\"My name is\",person2.name)\n",
        "print(\"My age is\",person2.age)\n",
        "\n"
      ]
    },
    {
      "cell_type": "code",
      "source": [
        "\n",
        "class Parent:\n",
        "  def __init__(self,name, sex, profession):\n",
        "    self.name = name\n",
        "    self.sex = sex\n",
        "    self.profession = profession\n",
        "\n",
        "  def show(self):\n",
        "    print('Name:', self.name, 'Sex:',self.sex, 'Profession:',self.profession,)\n",
        "  \n",
        "  def work(self):\n",
        "    print(self.name,'working as a',self.profession)\n",
        "\n",
        "Elsie = Parent('Elsie', 'Female', 'Office Staff')\n",
        "\n",
        "Elsie.show()\n",
        "Elsie.work()\n",
        "\n"
      ],
      "metadata": {
        "id": "sRE0_IOi0b82",
        "colab": {
          "base_uri": "https://localhost:8080/"
        },
        "outputId": "175481e4-52bd-45de-a518-ee90b276fcd9"
      },
      "execution_count": 3,
      "outputs": [
        {
          "output_type": "stream",
          "name": "stdout",
          "text": [
            "Name: Elsie Sex: Female Profession: Office Staff\n",
            "Elsie working as a Office Staff\n"
          ]
        }
      ]
    }
  ]
}