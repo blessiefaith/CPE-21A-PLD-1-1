{
  "nbformat": 4,
  "nbformat_minor": 0,
  "metadata": {
    "colab": {
      "provenance": [],
      "authorship_tag": "ABX9TyMaF8/ckWXQDwDs6v74XkNS",
      "include_colab_link": true
    },
    "kernelspec": {
      "name": "python3",
      "display_name": "Python 3"
    },
    "language_info": {
      "name": "python"
    }
  },
  "cells": [
    {
      "cell_type": "markdown",
      "metadata": {
        "id": "view-in-github",
        "colab_type": "text"
      },
      "source": [
        "<a href=\"https://colab.research.google.com/github/blessiefaith/CPE-21A-PLD-1-1/blob/main/Nested_If_Else.ipynb\" target=\"_parent\"><img src=\"https://colab.research.google.com/assets/colab-badge.svg\" alt=\"Open In Colab\"/></a>"
      ]
    },
    {
      "cell_type": "markdown",
      "source": [
        "Example 1 \n"
      ],
      "metadata": {
        "id": "13DOYeqThDcN"
      }
    },
    {
      "cell_type": "code",
      "source": [
        "age=int(input(\"Please type your age:\"))\n",
        "if age>18:\n",
        "  print(\"You are certified to vote!\")\n",
        "if age>25:\n",
        "    print(\"You are also certified  to vote!\")\n",
        "if age<18:\n",
        "      print(\"You are NOT certified to vote!\")\n",
        "if age<12:\n",
        "      print(\" You are too young,so you are NOT certified to vote!\")\n",
        "else:\n",
        "  print(\"You reached the age of 19 years old,so you are certified to vote\")"
      ],
      "metadata": {
        "colab": {
          "base_uri": "https://localhost:8080/"
        },
        "id": "HnZZdM0AkLC4",
        "outputId": "25398455-4abd-488b-cbcb-8cd57989ddb0"
      },
      "execution_count": 11,
      "outputs": [
        {
          "output_type": "stream",
          "name": "stdout",
          "text": [
            "Please type your age:19\n",
            "You are certified to vote!\n",
            "You reached the age of 19 years old,so you are certified to vote\n"
          ]
        }
      ]
    },
    {
      "cell_type": "markdown",
      "source": [
        "Example 2 \n"
      ],
      "metadata": {
        "id": "T_U6wjxfwswP"
      }
    },
    {
      "cell_type": "code",
      "source": [
        "number=float(input(\"Please type a number:\"))\n",
        "if number<0:\n",
        "  print(\"The number is Negative\")\n",
        "elif number>0:\n",
        "  print(\"The number is Positive\")\n",
        "else:\n",
        "  print(\"The number is Positive\")\n"
      ],
      "metadata": {
        "colab": {
          "base_uri": "https://localhost:8080/"
        },
        "id": "lIJrjPkdwutE",
        "outputId": "2bcf35e4-ff09-4ec9-b885-380f5bc04ea0"
      },
      "execution_count": 9,
      "outputs": [
        {
          "output_type": "stream",
          "name": "stdout",
          "text": [
            "Please type a number:9\n",
            "The number is Positive\n"
          ]
        }
      ]
    },
    {
      "cell_type": "markdown",
      "source": [
        "Example 3\n"
      ],
      "metadata": {
        "id": "SXPj45slTrVR"
      }
    },
    {
      "cell_type": "code",
      "source": [
        "grade =float(input(\"Please input your grade:\"))\n",
        "if grade>75:\n",
        "  print(\"Passed!\")\n",
        "if grade>85:\n",
        "  print(\"Passed!\")\n",
        "if grade>90:\n",
        "  print(\"Passed!\")\n",
        "if grade==74:\n",
        "  print(\"Remedial\")\n",
        "if grade==74.3:\n",
        "  print(\"Remedial\")\n",
        "else:\n",
        "  print(\"Failed\")\n",
        "  "
      ],
      "metadata": {
        "colab": {
          "base_uri": "https://localhost:8080/"
        },
        "id": "VxmYzYJs7CCI",
        "outputId": "802aa072-46dc-4d56-d5c5-828dff7ccfbd"
      },
      "execution_count": 7,
      "outputs": [
        {
          "output_type": "stream",
          "name": "stdout",
          "text": [
            "Please input your grade:73\n",
            "Failed\n"
          ]
        }
      ]
    }
  ]
}