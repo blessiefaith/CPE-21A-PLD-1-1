{
  "nbformat": 4,
  "nbformat_minor": 0,
  "metadata": {
    "colab": {
      "provenance": [],
      "authorship_tag": "ABX9TyN4ayXEiSOgCzs1iOoLDD0u",
      "include_colab_link": true
    },
    "kernelspec": {
      "name": "python3",
      "display_name": "Python 3"
    },
    "language_info": {
      "name": "python"
    }
  },
  "cells": [
    {
      "cell_type": "markdown",
      "metadata": {
        "id": "view-in-github",
        "colab_type": "text"
      },
      "source": [
        "<a href=\"https://colab.research.google.com/github/blessiefaith/CPE-21A-PLD-1-1/blob/main/Introduction_to_Python.ipynb\" target=\"_parent\"><img src=\"https://colab.research.google.com/assets/colab-badge.svg\" alt=\"Open In Colab\"/></a>"
      ]
    },
    {
      "cell_type": "markdown",
      "source": [
        "#Indentation\n"
      ],
      "metadata": {
        "id": "c1crrXbDllWz"
      }
    },
    {
      "cell_type": "code",
      "source": [
        "if 8>4: \n",
        "   print  (\"8 is greater than four\")\n"
      ],
      "metadata": {
        "colab": {
          "base_uri": "https://localhost:8080/"
        },
        "id": "zx2Nj-a6lprF",
        "outputId": "91c42a86-edf9-4604-d8a3-0740e13f465f"
      },
      "execution_count": 28,
      "outputs": [
        {
          "output_type": "stream",
          "name": "stdout",
          "text": [
            "8 is greater than four\n"
          ]
        }
      ]
    },
    {
      "cell_type": "markdown",
      "source": [
        "#Variable Declaration\n"
      ],
      "metadata": {
        "id": "_xzjlh3imMCi"
      }
    },
    {
      "cell_type": "code",
      "source": [
        "#Variable with a single value\n",
        "x = 60 \n",
        "y = 80\n",
        "if x<y:\n",
        "  print (\"x is less than y\")\n",
        "else:\n",
        "  print (\"y is greater than x\")"
      ],
      "metadata": {
        "colab": {
          "base_uri": "https://localhost:8080/"
        },
        "id": "mkquk02pmQdv",
        "outputId": "bc98d903-0685-4d9c-e030-296f192afc43"
      },
      "execution_count": 18,
      "outputs": [
        {
          "output_type": "stream",
          "name": "stdout",
          "text": [
            "x is less than y\n"
          ]
        }
      ]
    },
    {
      "cell_type": "code",
      "source": [
        "#Variable with a multiple value \n",
        "b,m=18,19 \n",
        "print (\"The value of b is:\",b)\n",
        "print (\"The value of m is:\",m)\n",
        "\n"
      ],
      "metadata": {
        "colab": {
          "base_uri": "https://localhost:8080/"
        },
        "id": "zKPnXPT7nSnL",
        "outputId": "0315359c-e6fd-4589-87a8-f0f0865cee71"
      },
      "execution_count": 8,
      "outputs": [
        {
          "output_type": "stream",
          "name": "stdout",
          "text": [
            "The value of b is: 18\n",
            "The value of m is: 19\n"
          ]
        }
      ]
    },
    {
      "cell_type": "code",
      "source": [
        "#Multiple variable with a single value \n",
        "b=m=t=\"Cutie\"\n",
        "print (b)\n",
        "print (m)\n",
        "print (t)"
      ],
      "metadata": {
        "colab": {
          "base_uri": "https://localhost:8080/"
        },
        "id": "kChnxzhfoCHO",
        "outputId": "3889f0cc-72bb-4bc8-f4e6-a555e8748197"
      },
      "execution_count": 17,
      "outputs": [
        {
          "output_type": "stream",
          "name": "stdout",
          "text": [
            "Cutie\n",
            "Cutie\n",
            "Cutie\n"
          ]
        }
      ]
    },
    {
      "cell_type": "markdown",
      "source": [
        "#Casting and Type () Funtion "
      ],
      "metadata": {
        "id": "zwwvyMZ1rFUt"
      }
    },
    {
      "cell_type": "code",
      "source": [
        "f=int(9)\n",
        "g=float(4)\n",
        "\n",
        "print (f)\n",
        "print (g)\n",
        "\n",
        "print (type(f))\n",
        "print (type(g))\n"
      ],
      "metadata": {
        "colab": {
          "base_uri": "https://localhost:8080/"
        },
        "id": "VlPnMVoMrMJw",
        "outputId": "620fd8b7-487c-4ba5-9dd2-323f9017f08c"
      },
      "execution_count": 19,
      "outputs": [
        {
          "output_type": "stream",
          "name": "stdout",
          "text": [
            "9\n",
            "4.0\n",
            "<class 'int'>\n",
            "<class 'float'>\n"
          ]
        }
      ]
    },
    {
      "cell_type": "markdown",
      "source": [
        "#Double quote and Single quote "
      ],
      "metadata": {
        "id": "1T_6FaM-rq8S"
      }
    },
    {
      "cell_type": "code",
      "source": [
        "name=\"Blessie\"\n",
        "surname='Gomez'\n",
        "print(name)\n",
        "print(surname)\n"
      ],
      "metadata": {
        "colab": {
          "base_uri": "https://localhost:8080/"
        },
        "id": "3EokBrT4sKuN",
        "outputId": "bd0df0b4-370a-4800-abd8-09f4a26d5c87"
      },
      "execution_count": 23,
      "outputs": [
        {
          "output_type": "stream",
          "name": "stdout",
          "text": [
            "Blessie\n",
            "Gomez\n"
          ]
        }
      ]
    },
    {
      "cell_type": "markdown",
      "source": [
        "#Case Sensitive "
      ],
      "metadata": {
        "id": "8qIu83d3sg2y"
      }
    },
    {
      "cell_type": "code",
      "source": [
        "t=\"Tarroza\"\n",
        "print(t)"
      ],
      "metadata": {
        "colab": {
          "base_uri": "https://localhost:8080/"
        },
        "id": "tf1xyYk0sjqb",
        "outputId": "44b44d05-15ff-4911-afee-bf4c7303e071"
      },
      "execution_count": 24,
      "outputs": [
        {
          "output_type": "stream",
          "name": "stdout",
          "text": [
            "Tarroza\n"
          ]
        }
      ]
    },
    {
      "cell_type": "markdown",
      "source": [
        "#Output Variable "
      ],
      "metadata": {
        "id": "WL6FmSJgsqhA"
      }
    },
    {
      "cell_type": "code",
      "source": [
        "b=\"See you after a week\"\n",
        "m=\"love\"\n",
        "print(b,m)\n"
      ],
      "metadata": {
        "colab": {
          "base_uri": "https://localhost:8080/"
        },
        "id": "OB6vAKNisvHD",
        "outputId": "6221d907-1c51-45ae-e430-8623976f947b"
      },
      "execution_count": 27,
      "outputs": [
        {
          "output_type": "stream",
          "name": "stdout",
          "text": [
            "See you after a week love\n"
          ]
        }
      ]
    }
  ]
}