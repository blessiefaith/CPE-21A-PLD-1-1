{
  "nbformat": 4,
  "nbformat_minor": 0,
  "metadata": {
    "colab": {
      "provenance": [],
      "authorship_tag": "ABX9TyO1kepTN79SWZ62Nx/AOCKR",
      "include_colab_link": true
    },
    "kernelspec": {
      "name": "python3",
      "display_name": "Python 3"
    },
    "language_info": {
      "name": "python"
    }
  },
  "cells": [
    {
      "cell_type": "markdown",
      "metadata": {
        "id": "view-in-github",
        "colab_type": "text"
      },
      "source": [
        "<a href=\"https://colab.research.google.com/github/blessiefaith/CPE-21A-PLD-1-1/blob/main/Final_Examination.ipynb\" target=\"_parent\"><img src=\"https://colab.research.google.com/assets/colab-badge.svg\" alt=\"Open In Colab\"/></a>"
      ]
    },
    {
      "cell_type": "code",
      "execution_count": 1,
      "metadata": {
        "colab": {
          "base_uri": "https://localhost:8080/",
          "height": 35
        },
        "id": "3xkH077JG_3H",
        "outputId": "5bb837cb-76fe-4ed9-896e-53aa35e28a35"
      },
      "outputs": [
        {
          "output_type": "execute_result",
          "data": {
            "text/plain": [
              "'4 sides are equal'"
            ],
            "application/vnd.google.colaboratory.intrinsic+json": {
              "type": "string"
            }
          },
          "metadata": {},
          "execution_count": 1
        }
      ],
      "source": [
        "class Shape:\n",
        "\n",
        "   def square(self):\n",
        "\n",
        "     return \"4 sides are equal\"\n",
        "\n",
        "   def rectangle(self):\n",
        "\n",
        "    return \"2 sides are equal\"\n",
        "\n",
        "\n",
        "\n",
        "class Polygon(Shape):\n",
        "\n",
        "  def triangle(self):\n",
        "\n",
        "    return \"3 sides\"\n",
        "\n",
        "\n",
        "\n",
        "object = Polygon()\n",
        "\n",
        "object.square()"
      ]
    },
    {
      "cell_type": "code",
      "source": [
        "class Shape:\n",
        "\n",
        "   def triangle(self):\n",
        "\n",
        "     return \"4 sides are equal\"\n",
        "\n",
        "   def rectangle(self):\n",
        "\n",
        "    return \"2 sides are equal\"\n",
        "\n",
        "\n",
        "\n",
        "class Polygon(Shape):\n",
        "\n",
        "  def triangle(self):\n",
        "\n",
        "    return \"has edges and vertices\"\n",
        "\n",
        "\n",
        "\n",
        "object = Polygon()\n",
        "\n",
        "object.triangle()\n",
        "\n"
      ],
      "metadata": {
        "colab": {
          "base_uri": "https://localhost:8080/",
          "height": 35
        },
        "id": "yc66zVjCH4SF",
        "outputId": "2ab04784-3dd2-496c-fc29-845214c2e02d"
      },
      "execution_count": 2,
      "outputs": [
        {
          "output_type": "execute_result",
          "data": {
            "text/plain": [
              "'has edges and vertices'"
            ],
            "application/vnd.google.colaboratory.intrinsic+json": {
              "type": "string"
            }
          },
          "metadata": {},
          "execution_count": 2
        }
      ]
    },
    {
      "cell_type": "code",
      "source": [
        "4+3%5"
      ],
      "metadata": {
        "colab": {
          "base_uri": "https://localhost:8080/"
        },
        "id": "PzuM2OJKJOmt",
        "outputId": "0121d0cf-eb28-4ada-a069-eeb2aa328180"
      },
      "execution_count": 4,
      "outputs": [
        {
          "output_type": "execute_result",
          "data": {
            "text/plain": [
              "7"
            ]
          },
          "metadata": {},
          "execution_count": 4
        }
      ]
    },
    {
      "cell_type": "code",
      "source": [
        "for i in range(1, 5):\n",
        "    print(i)\n",
        "else:\n",
        "    print(\"this is else block statement\" )  "
      ],
      "metadata": {
        "colab": {
          "base_uri": "https://localhost:8080/"
        },
        "id": "c29vJvdLJUm0",
        "outputId": "1bfbf94a-3c80-4b1b-fc80-4833a344d3c1"
      },
      "execution_count": 5,
      "outputs": [
        {
          "output_type": "stream",
          "name": "stdout",
          "text": [
            "1\n",
            "2\n",
            "3\n",
            "4\n",
            "this is else block statement\n"
          ]
        }
      ]
    },
    {
      "cell_type": "code",
      "source": [
        "x=1\n",
        "y= x<<2\n",
        "print(y)"
      ],
      "metadata": {
        "colab": {
          "base_uri": "https://localhost:8080/"
        },
        "id": "iK6K-aZ1NF4D",
        "outputId": "a1a48a4b-db08-476b-889d-c1e013a71593"
      },
      "execution_count": 14,
      "outputs": [
        {
          "output_type": "stream",
          "name": "stdout",
          "text": [
            "4\n"
          ]
        }
      ]
    }
  ]
}