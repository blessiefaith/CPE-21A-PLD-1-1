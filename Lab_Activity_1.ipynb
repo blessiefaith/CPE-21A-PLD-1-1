{
  "nbformat": 4,
  "nbformat_minor": 0,
  "metadata": {
    "colab": {
      "provenance": [],
      "authorship_tag": "ABX9TyMriZqjjV9DvYTUlMxeM5A7",
      "include_colab_link": true
    },
    "kernelspec": {
      "name": "python3",
      "display_name": "Python 3"
    },
    "language_info": {
      "name": "python"
    }
  },
  "cells": [
    {
      "cell_type": "markdown",
      "metadata": {
        "id": "view-in-github",
        "colab_type": "text"
      },
      "source": [
        "<a href=\"https://colab.research.google.com/github/blessiefaith/CPE-21A-PLD-1-1/blob/main/Lab_Activity_1.ipynb\" target=\"_parent\"><img src=\"https://colab.research.google.com/assets/colab-badge.svg\" alt=\"Open In Colab\"/></a>"
      ]
    },
    {
      "cell_type": "markdown",
      "source": [
        "Problem 1\n"
      ],
      "metadata": {
        "id": "VpEkP9gZhV9H"
      }
    },
    {
      "cell_type": "code",
      "execution_count": 50,
      "metadata": {
        "colab": {
          "base_uri": "https://localhost:8080/"
        },
        "id": "9a-qPiyAOHMg",
        "outputId": "22e5fdc9-1d94-4036-95f0-c16901bd987a"
      },
      "outputs": [
        {
          "output_type": "stream",
          "name": "stdout",
          "text": [
            "sum 210\n",
            "average: 10.5\n"
          ]
        }
      ],
      "source": [
        "n = 20\n",
        "totalnumbers = n\n",
        "sum = 0\n",
        "average = 0\n",
        "\n",
        "while n >= 0:\n",
        "  sum += n\n",
        "  n -= 1 \n",
        "\n",
        "print('sum', sum)\n",
        "\n",
        "average = sum/totalnumbers\n",
        "\n",
        "print(\"average:\", average)"
      ]
    },
    {
      "cell_type": "markdown",
      "source": [
        "Problem 2\n"
      ],
      "metadata": {
        "id": "WQXuTNdchSqn"
      }
    },
    {
      "cell_type": "code",
      "source": [
        "class Student:\n",
        "  def __init__(self,name,studentnumber,age,school,course):\n",
        "    self.name = name\n",
        "    self.age = age\n",
        "    self.studentnumber = studentnumber\n",
        "    self.course = course\n",
        "    self.school = school\n",
        "\n",
        "self = Student('Blessie Faith Maala Gomez',202201000, 19,'Cavite State University-Main Campus' , 'Computer Engineering')\n",
        "print('My name is', self.name)\n",
        "print('My student number is', self.studentnumber)\n",
        "print('I am', self.age , 'years old')\n",
        "print('The name of my school is ' , self.school)\n",
        "print('Currently taking the course of',self.course)"
      ],
      "metadata": {
        "colab": {
          "base_uri": "https://localhost:8080/"
        },
        "id": "AaLGEvNZVh14",
        "outputId": "0d1532c1-342b-4afd-8fc6-a30e61e1459e"
      },
      "execution_count": 53,
      "outputs": [
        {
          "output_type": "stream",
          "name": "stdout",
          "text": [
            "My name is Blessie Faith Maala Gomez\n",
            "My student number is 202201000\n",
            "I am 19 years old\n",
            "The name of my school is  Cavite State University-Main Campus\n",
            "Currently taking the course of Computer Engineering\n"
          ]
        }
      ]
    }
  ]
}