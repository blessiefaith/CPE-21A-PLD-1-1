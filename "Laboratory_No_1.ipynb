{
  "nbformat": 4,
  "nbformat_minor": 0,
  "metadata": {
    "colab": {
      "provenance": [],
      "authorship_tag": "ABX9TyOiyuB36CgwT6pTnGVWmb/D",
      "include_colab_link": true
    },
    "kernelspec": {
      "name": "python3",
      "display_name": "Python 3"
    },
    "language_info": {
      "name": "python"
    }
  },
  "cells": [
    {
      "cell_type": "markdown",
      "metadata": {
        "id": "view-in-github",
        "colab_type": "text"
      },
      "source": [
        "<a href=\"https://colab.research.google.com/github/blessiefaith/CPE-21A-PLD-1-1/blob/main/%22Laboratory_No_1.ipynb\" target=\"_parent\"><img src=\"https://colab.research.google.com/assets/colab-badge.svg\" alt=\"Open In Colab\"/></a>"
      ]
    },
    {
      "cell_type": "markdown",
      "source": [
        "Problem 2\n"
      ],
      "metadata": {
        "id": "cneffSL-kp85"
      }
    },
    {
      "cell_type": "code",
      "source": [
        "class Student:\n",
        "  def __init__(self,name,studentnumber,age,school,course):\n",
        "    self.name = name\n",
        "    self.age = age\n",
        "    self.studentnumber = studentnumber\n",
        "    self.course = course\n",
        "    self.school = school\n",
        "\n",
        "self = Student('Blessie Faith Maala Gomez',202201000, 19,'Cavite State University-Main Campus' , 'Computer Engineering')\n",
        "print('My name is', self.name)\n",
        "print('My student number is', self.studentnumber)\n",
        "print('I am', self.age , 'years old')\n",
        "print('The name of my school is ' , self.school)\n",
        "print('Currently taking the course of',self.course)"
      ],
      "metadata": {
        "colab": {
          "base_uri": "https://localhost:8080/"
        },
        "id": "osnfKKAqkrYv",
        "outputId": "6d78d6fe-4717-4351-8912-09b2acaf1fa7"
      },
      "execution_count": 1,
      "outputs": [
        {
          "output_type": "stream",
          "name": "stdout",
          "text": [
            "My name is Blessie Faith Maala Gomez\n",
            "My student number is 202201000\n",
            "I am 19 years old\n",
            "The name of my school is  Cavite State University-Main Campus\n",
            "Currently taking the course of Computer Engineering\n"
          ]
        }
      ]
    }
  ]
}